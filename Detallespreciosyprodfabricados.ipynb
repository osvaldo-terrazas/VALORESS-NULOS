{
  "cells": [
    {
      "cell_type": "code",
      "execution_count": 1,
      "metadata": {
        "id": "bNxIycTClqSR"
      },
      "outputs": [],
      "source": [
        "#Importas las librerias pandas, numpy\n",
        "import pandas as pd\n",
        "import numpy as np\n",
        "import matplotlib.pyplot as plt"
      ]
    },
    {
      "cell_type": "code",
      "execution_count": 3,
      "metadata": {
        "colab": {
          "base_uri": "https://localhost:8080/",
          "height": 808
        },
        "id": "xg5XLl_4l0o5",
        "outputId": "8a51ed71-ae42-484b-f391-339fb65c70a3"
      },
      "outputs": [
        {
          "data": {
            "text/html": [
              "<div>\n",
              "<style scoped>\n",
              "    .dataframe tbody tr th:only-of-type {\n",
              "        vertical-align: middle;\n",
              "    }\n",
              "\n",
              "    .dataframe tbody tr th {\n",
              "        vertical-align: top;\n",
              "    }\n",
              "\n",
              "    .dataframe thead th {\n",
              "        text-align: right;\n",
              "    }\n",
              "</style>\n",
              "<table border=\"1\" class=\"dataframe\">\n",
              "  <thead>\n",
              "    <tr style=\"text-align: right;\">\n",
              "      <th></th>\n",
              "      <th>CVE_DOC</th>\n",
              "      <th>FECHA_DOC</th>\n",
              "      <th>NOMBRE_VENDEDOR</th>\n",
              "      <th>NOMBRE_CLIENTE</th>\n",
              "      <th>CANT</th>\n",
              "      <th>CVE_ART</th>\n",
              "      <th>DESCR</th>\n",
              "      <th>PRECIO_UNITARIO</th>\n",
              "      <th>COSTO_UNITARIO</th>\n",
              "      <th>COSTO_UNITARIO_CALCULADO</th>\n",
              "      <th>SUBTOTAL_PARTIDA</th>\n",
              "      <th>COSTO_TOTAL_CALCULADO</th>\n",
              "      <th>MARGEN_UNITARIO_CALCULADO</th>\n",
              "      <th>MARGEN_TOTAL_CALCULADO</th>\n",
              "    </tr>\n",
              "  </thead>\n",
              "  <tbody>\n",
              "    <tr>\n",
              "      <th>0</th>\n",
              "      <td>F37034</td>\n",
              "      <td>2022-01-05</td>\n",
              "      <td>LETICIA RAMIREZ HERNANDEZ</td>\n",
              "      <td>PÚBLICO EN GENERAL</td>\n",
              "      <td>1.0</td>\n",
              "      <td>TUE00244</td>\n",
              "      <td>TUB COBRE 5/16\"ØX165MM CIRCULA1.5KW127V</td>\n",
              "      <td>434.48</td>\n",
              "      <td>52.80</td>\n",
              "      <td>52.80</td>\n",
              "      <td>434.48</td>\n",
              "      <td>52.80</td>\n",
              "      <td>381.68</td>\n",
              "      <td>381.68</td>\n",
              "    </tr>\n",
              "    <tr>\n",
              "      <th>1</th>\n",
              "      <td>F37036</td>\n",
              "      <td>2022-01-05</td>\n",
              "      <td>LETICIA RAMIREZ HERNANDEZ</td>\n",
              "      <td>JUAN ANTONIO RESENDIZ UGALDE</td>\n",
              "      <td>1.0</td>\n",
              "      <td>TUA00028</td>\n",
              "      <td>TUA U\" 5/16 ØX250MM 1200W 120V TAP1\"NPT</td>\n",
              "      <td>1264.05</td>\n",
              "      <td>327.18</td>\n",
              "      <td>327.18</td>\n",
              "      <td>1264.05</td>\n",
              "      <td>327.18</td>\n",
              "      <td>936.87</td>\n",
              "      <td>936.87</td>\n",
              "    </tr>\n",
              "    <tr>\n",
              "      <th>2</th>\n",
              "      <td>F37041</td>\n",
              "      <td>2022-01-05</td>\n",
              "      <td>DIEGO ARMANDO LEON DURAN</td>\n",
              "      <td>ANA BARBARA CRUZ PALACIOS</td>\n",
              "      <td>7.0</td>\n",
              "      <td>TP0007</td>\n",
              "      <td>TERMOPAR J 3/16 Ø X 1' 1/2 EXT. 7 MT</td>\n",
              "      <td>551.61</td>\n",
              "      <td>177.68</td>\n",
              "      <td>177.68</td>\n",
              "      <td>3861.29</td>\n",
              "      <td>1243.73</td>\n",
              "      <td>373.94</td>\n",
              "      <td>2617.56</td>\n",
              "    </tr>\n",
              "    <tr>\n",
              "      <th>3</th>\n",
              "      <td>F37042</td>\n",
              "      <td>2022-01-05</td>\n",
              "      <td>DIEGO ARMANDO LEON DURAN</td>\n",
              "      <td>OMAR RODRIGUEZ GOMEZ</td>\n",
              "      <td>1.0</td>\n",
              "      <td>TP0001</td>\n",
              "      <td>TERMOPAR J 3/16 Ø X 1' 1/2 EXT. 1 MT</td>\n",
              "      <td>140.00</td>\n",
              "      <td>38.96</td>\n",
              "      <td>38.96</td>\n",
              "      <td>140.00</td>\n",
              "      <td>38.96</td>\n",
              "      <td>101.04</td>\n",
              "      <td>101.04</td>\n",
              "    </tr>\n",
              "    <tr>\n",
              "      <th>4</th>\n",
              "      <td>F37043</td>\n",
              "      <td>2022-01-05</td>\n",
              "      <td>LETICIA RAMIREZ HERNANDEZ</td>\n",
              "      <td>PÚBLICO EN GENERAL</td>\n",
              "      <td>2.0</td>\n",
              "      <td>BP00242</td>\n",
              "      <td>BAN P INOX 115MMX235MM 1000W 127V T/TOR</td>\n",
              "      <td>172.41</td>\n",
              "      <td>101.71</td>\n",
              "      <td>101.71</td>\n",
              "      <td>344.83</td>\n",
              "      <td>203.42</td>\n",
              "      <td>70.71</td>\n",
              "      <td>141.41</td>\n",
              "    </tr>\n",
              "    <tr>\n",
              "      <th>...</th>\n",
              "      <td>...</td>\n",
              "      <td>...</td>\n",
              "      <td>...</td>\n",
              "      <td>...</td>\n",
              "      <td>...</td>\n",
              "      <td>...</td>\n",
              "      <td>...</td>\n",
              "      <td>...</td>\n",
              "      <td>...</td>\n",
              "      <td>...</td>\n",
              "      <td>...</td>\n",
              "      <td>...</td>\n",
              "      <td>...</td>\n",
              "      <td>...</td>\n",
              "    </tr>\n",
              "    <tr>\n",
              "      <th>1421</th>\n",
              "      <td>F39834</td>\n",
              "      <td>2022-12-23</td>\n",
              "      <td>LETICIA RAMIREZ HERNANDEZ</td>\n",
              "      <td>LUIS ENRIQUE PATIÑO PEREZ</td>\n",
              "      <td>6.0</td>\n",
              "      <td>CS12F1040A00</td>\n",
              "      <td>CAS INOX 1/2\"ØX3\" 400W 127V EXT.30CM</td>\n",
              "      <td>712.00</td>\n",
              "      <td>102.31</td>\n",
              "      <td>102.31</td>\n",
              "      <td>4272.00</td>\n",
              "      <td>613.88</td>\n",
              "      <td>609.69</td>\n",
              "      <td>3658.12</td>\n",
              "    </tr>\n",
              "    <tr>\n",
              "      <th>1422</th>\n",
              "      <td>F39834</td>\n",
              "      <td>2022-12-23</td>\n",
              "      <td>LETICIA RAMIREZ HERNANDEZ</td>\n",
              "      <td>LUIS ENRIQUE PATIÑO PEREZ</td>\n",
              "      <td>6.0</td>\n",
              "      <td>CS12H1050A00</td>\n",
              "      <td>CAS INOX 1/2\"ØX4\" 500W 127V EXT30CM</td>\n",
              "      <td>718.60</td>\n",
              "      <td>104.69</td>\n",
              "      <td>104.69</td>\n",
              "      <td>4311.60</td>\n",
              "      <td>628.12</td>\n",
              "      <td>613.91</td>\n",
              "      <td>3683.48</td>\n",
              "    </tr>\n",
              "    <tr>\n",
              "      <th>1423</th>\n",
              "      <td>F39835</td>\n",
              "      <td>2022-12-23</td>\n",
              "      <td>LETICIA RAMIREZ HERNANDEZ</td>\n",
              "      <td>SEVEN DAYS ALL SPORT</td>\n",
              "      <td>3.0</td>\n",
              "      <td>TUE00394</td>\n",
              "      <td>TUB INOX 5/16\"ØX300MM 5300W 220V \"M\" ESP</td>\n",
              "      <td>2182.35</td>\n",
              "      <td>0.00</td>\n",
              "      <td>596.55</td>\n",
              "      <td>6547.05</td>\n",
              "      <td>1789.64</td>\n",
              "      <td>1585.80</td>\n",
              "      <td>4757.41</td>\n",
              "    </tr>\n",
              "    <tr>\n",
              "      <th>1424</th>\n",
              "      <td>F39837</td>\n",
              "      <td>2022-12-23</td>\n",
              "      <td>LETICIA RAMIREZ HERNANDEZ</td>\n",
              "      <td>REVUELTA MONTECARLO</td>\n",
              "      <td>1.0</td>\n",
              "      <td>TUA00470</td>\n",
              "      <td>TUB INOX 1/2\"ØX500MM 10KW 220V 2 1/2\"NPT</td>\n",
              "      <td>5909.84</td>\n",
              "      <td>1884.35</td>\n",
              "      <td>1884.35</td>\n",
              "      <td>5909.84</td>\n",
              "      <td>1884.35</td>\n",
              "      <td>4025.49</td>\n",
              "      <td>4025.49</td>\n",
              "    </tr>\n",
              "    <tr>\n",
              "      <th>1425</th>\n",
              "      <td>F39838</td>\n",
              "      <td>2022-12-23</td>\n",
              "      <td>AARON NUÑO CORDOVA</td>\n",
              "      <td>CPEG SOLUTIONS</td>\n",
              "      <td>10.0</td>\n",
              "      <td>RB00007</td>\n",
              "      <td>FAB  BOBINA DSD1 6 COLOCAR B/NUEVA 488V</td>\n",
              "      <td>1406.00</td>\n",
              "      <td>0.00</td>\n",
              "      <td>80.66</td>\n",
              "      <td>14060.00</td>\n",
              "      <td>806.55</td>\n",
              "      <td>1325.34</td>\n",
              "      <td>13253.45</td>\n",
              "    </tr>\n",
              "  </tbody>\n",
              "</table>\n",
              "<p>1426 rows × 14 columns</p>\n",
              "</div>"
            ],
            "text/plain": [
              "     CVE_DOC  FECHA_DOC            NOMBRE_VENDEDOR  \\\n",
              "0     F37034 2022-01-05  LETICIA RAMIREZ HERNANDEZ   \n",
              "1     F37036 2022-01-05  LETICIA RAMIREZ HERNANDEZ   \n",
              "2     F37041 2022-01-05   DIEGO ARMANDO LEON DURAN   \n",
              "3     F37042 2022-01-05   DIEGO ARMANDO LEON DURAN   \n",
              "4     F37043 2022-01-05  LETICIA RAMIREZ HERNANDEZ   \n",
              "...      ...        ...                        ...   \n",
              "1421  F39834 2022-12-23  LETICIA RAMIREZ HERNANDEZ   \n",
              "1422  F39834 2022-12-23  LETICIA RAMIREZ HERNANDEZ   \n",
              "1423  F39835 2022-12-23  LETICIA RAMIREZ HERNANDEZ   \n",
              "1424  F39837 2022-12-23  LETICIA RAMIREZ HERNANDEZ   \n",
              "1425  F39838 2022-12-23         AARON NUÑO CORDOVA   \n",
              "\n",
              "                    NOMBRE_CLIENTE  CANT       CVE_ART  \\\n",
              "0               PÚBLICO EN GENERAL   1.0      TUE00244   \n",
              "1     JUAN ANTONIO RESENDIZ UGALDE   1.0      TUA00028   \n",
              "2        ANA BARBARA CRUZ PALACIOS   7.0        TP0007   \n",
              "3             OMAR RODRIGUEZ GOMEZ   1.0        TP0001   \n",
              "4               PÚBLICO EN GENERAL   2.0       BP00242   \n",
              "...                            ...   ...           ...   \n",
              "1421     LUIS ENRIQUE PATIÑO PEREZ   6.0  CS12F1040A00   \n",
              "1422     LUIS ENRIQUE PATIÑO PEREZ   6.0  CS12H1050A00   \n",
              "1423          SEVEN DAYS ALL SPORT   3.0      TUE00394   \n",
              "1424           REVUELTA MONTECARLO   1.0      TUA00470   \n",
              "1425                CPEG SOLUTIONS  10.0       RB00007   \n",
              "\n",
              "                                         DESCR  PRECIO_UNITARIO  \\\n",
              "0      TUB COBRE 5/16\"ØX165MM CIRCULA1.5KW127V           434.48   \n",
              "1      TUA U\" 5/16 ØX250MM 1200W 120V TAP1\"NPT          1264.05   \n",
              "2         TERMOPAR J 3/16 Ø X 1' 1/2 EXT. 7 MT           551.61   \n",
              "3         TERMOPAR J 3/16 Ø X 1' 1/2 EXT. 1 MT           140.00   \n",
              "4      BAN P INOX 115MMX235MM 1000W 127V T/TOR           172.41   \n",
              "...                                        ...              ...   \n",
              "1421      CAS INOX 1/2\"ØX3\" 400W 127V EXT.30CM           712.00   \n",
              "1422       CAS INOX 1/2\"ØX4\" 500W 127V EXT30CM           718.60   \n",
              "1423  TUB INOX 5/16\"ØX300MM 5300W 220V \"M\" ESP          2182.35   \n",
              "1424  TUB INOX 1/2\"ØX500MM 10KW 220V 2 1/2\"NPT          5909.84   \n",
              "1425   FAB  BOBINA DSD1 6 COLOCAR B/NUEVA 488V          1406.00   \n",
              "\n",
              "      COSTO_UNITARIO  COSTO_UNITARIO_CALCULADO  SUBTOTAL_PARTIDA  \\\n",
              "0              52.80                     52.80            434.48   \n",
              "1             327.18                    327.18           1264.05   \n",
              "2             177.68                    177.68           3861.29   \n",
              "3              38.96                     38.96            140.00   \n",
              "4             101.71                    101.71            344.83   \n",
              "...              ...                       ...               ...   \n",
              "1421          102.31                    102.31           4272.00   \n",
              "1422          104.69                    104.69           4311.60   \n",
              "1423            0.00                    596.55           6547.05   \n",
              "1424         1884.35                   1884.35           5909.84   \n",
              "1425            0.00                     80.66          14060.00   \n",
              "\n",
              "      COSTO_TOTAL_CALCULADO  MARGEN_UNITARIO_CALCULADO  MARGEN_TOTAL_CALCULADO  \n",
              "0                     52.80                     381.68                  381.68  \n",
              "1                    327.18                     936.87                  936.87  \n",
              "2                   1243.73                     373.94                 2617.56  \n",
              "3                     38.96                     101.04                  101.04  \n",
              "4                    203.42                      70.71                  141.41  \n",
              "...                     ...                        ...                     ...  \n",
              "1421                 613.88                     609.69                 3658.12  \n",
              "1422                 628.12                     613.91                 3683.48  \n",
              "1423                1789.64                    1585.80                 4757.41  \n",
              "1424                1884.35                    4025.49                 4025.49  \n",
              "1425                 806.55                    1325.34                13253.45  \n",
              "\n",
              "[1426 rows x 14 columns]"
            ]
          },
          "execution_count": 3,
          "metadata": {},
          "output_type": "execute_result"
        }
      ],
      "source": [
        "detalles= pd.read_excel('Detalle precios y productos fabricados 2022.xlsx',sheet_name='Detalle precios y productos fab')\n",
        "detalles"
      ]
    },
    {
      "cell_type": "code",
      "execution_count": 16,
      "metadata": {
        "colab": {
          "base_uri": "https://localhost:8080/",
          "height": 523
        },
        "id": "76cWaGRHnKh6",
        "outputId": "6a04849d-71ec-4aa9-fe38-e1df719b046b"
      },
      "outputs": [
        {
          "data": {
            "text/plain": [
              "CVE_DOC                      0\n",
              "FECHA_DOC                    0\n",
              "NOMBRE_VENDEDOR              0\n",
              "NOMBRE_CLIENTE               0\n",
              "CANT                         0\n",
              "CVE_ART                      0\n",
              "DESCR                        0\n",
              "PRECIO_UNITARIO              0\n",
              "COSTO_UNITARIO               0\n",
              "COSTO_UNITARIO_CALCULADO     0\n",
              "SUBTOTAL_PARTIDA             0\n",
              "COSTO_TOTAL_CALCULADO        0\n",
              "MARGEN_UNITARIO_CALCULADO    0\n",
              "MARGEN_TOTAL_CALCULADO       0\n",
              "dtype: int64"
            ]
          },
          "execution_count": 16,
          "metadata": {},
          "output_type": "execute_result"
        }
      ],
      "source": [
        "valores_nulos_detalles = detalles.isnull().sum()\n",
        "valores_nulos_detalles"
      ]
    },
    {
      "cell_type": "code",
      "execution_count": 5,
      "metadata": {
        "colab": {
          "base_uri": "https://localhost:8080/"
        },
        "id": "Yl1JIunqn6jH",
        "outputId": "3c2ad465-cb98-4180-cb11-2390fd094a83"
      },
      "outputs": [
        {
          "name": "stderr",
          "output_type": "stream",
          "text": [
            "C:\\Users\\Osvaldo\\AppData\\Local\\Temp\\ipykernel_7400\\2194982241.py:1: FutureWarning: Series.fillna with 'method' is deprecated and will raise in a future version. Use obj.ffill() or obj.bfill() instead.\n",
            "  detalles[\"FECHA_DOC\"] =detalles[\"FECHA_DOC\"].fillna(method=\"bfill\")\n"
          ]
        }
      ],
      "source": [
        "detalles[\"FECHA_DOC\"] =detalles[\"FECHA_DOC\"].fillna(method=\"bfill\")"
      ]
    },
    {
      "cell_type": "code",
      "execution_count": 6,
      "metadata": {
        "colab": {
          "base_uri": "https://localhost:8080/",
          "height": 808
        },
        "collapsed": true,
        "id": "YIF5wcAKplpR",
        "outputId": "d2b57167-6f96-4de7-df13-9317670689b2"
      },
      "outputs": [],
      "source": [
        "detalles[\"COSTO_UNITARIO_CALCULADO\"]=detalles[\"COSTO_UNITARIO_CALCULADO\"].fillna(\"0\")\n"
      ]
    },
    {
      "cell_type": "code",
      "execution_count": 7,
      "metadata": {
        "id": "pBnnnZ6aoKwR"
      },
      "outputs": [],
      "source": [
        "detalles[\"COSTO_UNITARIO\"]=detalles[\"COSTO_UNITARIO\"].fillna(\"0\")"
      ]
    },
    {
      "cell_type": "code",
      "execution_count": 8,
      "metadata": {
        "colab": {
          "base_uri": "https://localhost:8080/",
          "height": 808
        },
        "collapsed": true,
        "id": "qFgw-vXsqOFb",
        "outputId": "c7b9fbe6-b276-4b6a-c56a-48b09ace9319"
      },
      "outputs": [],
      "source": [
        "detalles[\"SUBTOTAL_PARTIDA\"]=detalles[\"SUBTOTAL_PARTIDA\"].fillna(\"NO DEFINIDO\")\n"
      ]
    },
    {
      "cell_type": "code",
      "execution_count": 9,
      "metadata": {
        "id": "EjMRIChNqqJp"
      },
      "outputs": [],
      "source": [
        "detalles[\"PRECIO_UNITARIO\"]=detalles[\"PRECIO_UNITARIO\"].fillna(\"0\")"
      ]
    },
    {
      "cell_type": "code",
      "execution_count": 10,
      "metadata": {
        "id": "r5bLnTOVq9F6"
      },
      "outputs": [],
      "source": [
        "detalles[\"CVE_ART\"]=detalles[\"CVE_ART\"].fillna(\"f001\")"
      ]
    },
    {
      "cell_type": "code",
      "execution_count": 11,
      "metadata": {
        "id": "S7Y4PoBbrSXE"
      },
      "outputs": [],
      "source": [
        "detalles[\"CVE_DOC\"]=detalles[\"CVE_DOC\"].fillna(\"0000\")"
      ]
    },
    {
      "cell_type": "code",
      "execution_count": 12,
      "metadata": {
        "id": "sCrG9jq9rrT_"
      },
      "outputs": [],
      "source": [
        "detalles[\"DESCR\"]=detalles[\"DESCR\"].fillna(\"SIN DESCRIPCION\")"
      ]
    },
    {
      "cell_type": "code",
      "execution_count": 13,
      "metadata": {
        "id": "yzHw6O-wr54Q"
      },
      "outputs": [],
      "source": [
        "detalles[\"NOMBRE_CLIENTE\"]=detalles[\"NOMBRE_CLIENTE\"].fillna(\" CLIENTE X\")"
      ]
    },
    {
      "cell_type": "code",
      "execution_count": 14,
      "metadata": {
        "id": "_jy3vhGmr5q6"
      },
      "outputs": [],
      "source": [
        "detalles[\"NOMBRE_VENDEDOR\"]=detalles[\"NOMBRE_VENDEDOR\"].fillna(\"VENDEDOR X\")"
      ]
    },
    {
      "cell_type": "code",
      "execution_count": 15,
      "metadata": {
        "id": "9GmzsPXpt3Lv"
      },
      "outputs": [
        {
          "name": "stderr",
          "output_type": "stream",
          "text": [
            "C:\\Users\\Osvaldo\\AppData\\Local\\Temp\\ipykernel_7400\\2845714146.py:2: FutureWarning: A value is trying to be set on a copy of a DataFrame or Series through chained assignment using an inplace method.\n",
            "The behavior will change in pandas 3.0. This inplace method will never work because the intermediate object on which we are setting values always behaves as a copy.\n",
            "\n",
            "For example, when doing 'df[col].method(value, inplace=True)', try using 'df.method({col: value}, inplace=True)' or df[col] = df[col].method(value) instead, to perform the operation inplace on the original object.\n",
            "\n",
            "\n",
            "  detalles[\"CANT\"].fillna(mean,inplace=True)\n"
          ]
        }
      ],
      "source": [
        "mean= detalles[\"CANT\"].mean()\n",
        "detalles[\"CANT\"].fillna(mean,inplace=True)"
      ]
    },
    {
      "cell_type": "code",
      "execution_count": 17,
      "metadata": {
        "id": "bn3MpKt4urA9"
      },
      "outputs": [],
      "source": [
        "#Convertir a archivos csv\n",
        "detalles.to_csv(\"DETALLES PRECIOS Y PRODUCTOS FABRICADOS 2022 CORREGIDO.csv\")"
      ]
    }
  ],
  "metadata": {
    "colab": {
      "provenance": []
    },
    "kernelspec": {
      "display_name": "Python 3",
      "name": "python3"
    },
    "language_info": {
      "codemirror_mode": {
        "name": "ipython",
        "version": 3
      },
      "file_extension": ".py",
      "mimetype": "text/x-python",
      "name": "python",
      "nbconvert_exporter": "python",
      "pygments_lexer": "ipython3",
      "version": "3.12.4"
    }
  },
  "nbformat": 4,
  "nbformat_minor": 0
}
