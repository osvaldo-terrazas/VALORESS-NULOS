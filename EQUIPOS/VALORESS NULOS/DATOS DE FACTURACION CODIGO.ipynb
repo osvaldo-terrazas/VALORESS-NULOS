{
 "cells": [
  {
   "cell_type": "code",
   "execution_count": 1,
   "metadata": {},
   "outputs": [],
   "source": [
    "import pandas as pd\n",
    "import numpy as np\n",
    "import matplotlib.pyplot as plt"
   ]
  },
  {
   "cell_type": "code",
   "execution_count": 2,
   "metadata": {},
   "outputs": [
    {
     "data": {
      "text/html": [
       "<div>\n",
       "<style scoped>\n",
       "    .dataframe tbody tr th:only-of-type {\n",
       "        vertical-align: middle;\n",
       "    }\n",
       "\n",
       "    .dataframe tbody tr th {\n",
       "        vertical-align: top;\n",
       "    }\n",
       "\n",
       "    .dataframe thead th {\n",
       "        text-align: right;\n",
       "    }\n",
       "</style>\n",
       "<table border=\"1\" class=\"dataframe\">\n",
       "  <thead>\n",
       "    <tr style=\"text-align: right;\">\n",
       "      <th></th>\n",
       "      <th>CVE_DOC</th>\n",
       "      <th>CVE_CLPV</th>\n",
       "      <th>STATUS</th>\n",
       "      <th>CVE_VEND</th>\n",
       "      <th>FECHAELAB</th>\n",
       "      <th>FECHA_DOC</th>\n",
       "      <th>FECHA_ENT</th>\n",
       "      <th>FECHA_VEN</th>\n",
       "      <th>FECHA_CANCELA</th>\n",
       "      <th>CAN_TOT</th>\n",
       "      <th>DES_TOT</th>\n",
       "      <th>DES_FIN</th>\n",
       "    </tr>\n",
       "  </thead>\n",
       "  <tbody>\n",
       "    <tr>\n",
       "      <th>0</th>\n",
       "      <td>F29414</td>\n",
       "      <td>2465</td>\n",
       "      <td>C</td>\n",
       "      <td>1.0</td>\n",
       "      <td>2019-09-03 08:58:42</td>\n",
       "      <td>2019-09-03</td>\n",
       "      <td>2019-09-03 00:00:00</td>\n",
       "      <td>2019-09-18</td>\n",
       "      <td>2019-09-04</td>\n",
       "      <td>3980.00</td>\n",
       "      <td>0.0</td>\n",
       "      <td>0.0</td>\n",
       "    </tr>\n",
       "    <tr>\n",
       "      <th>1</th>\n",
       "      <td>F29415</td>\n",
       "      <td>3926</td>\n",
       "      <td>C</td>\n",
       "      <td>1.0</td>\n",
       "      <td>2019-09-03 09:55:14</td>\n",
       "      <td>2019-09-03</td>\n",
       "      <td>2019-09-03 00:00:00</td>\n",
       "      <td>2019-10-03</td>\n",
       "      <td>2019-09-03</td>\n",
       "      <td>1550.00</td>\n",
       "      <td>0.0</td>\n",
       "      <td>0.0</td>\n",
       "    </tr>\n",
       "    <tr>\n",
       "      <th>2</th>\n",
       "      <td>F29416</td>\n",
       "      <td>3926</td>\n",
       "      <td>C</td>\n",
       "      <td>1.0</td>\n",
       "      <td>2019-09-03 13:25:33</td>\n",
       "      <td>2019-09-03</td>\n",
       "      <td>2019-09-03 00:00:00</td>\n",
       "      <td>2019-10-03</td>\n",
       "      <td>2019-09-03</td>\n",
       "      <td>1550.00</td>\n",
       "      <td>0.0</td>\n",
       "      <td>0.0</td>\n",
       "    </tr>\n",
       "    <tr>\n",
       "      <th>3</th>\n",
       "      <td>F29417</td>\n",
       "      <td>3926</td>\n",
       "      <td>C</td>\n",
       "      <td>1.0</td>\n",
       "      <td>2019-09-03 13:33:23</td>\n",
       "      <td>2019-09-03</td>\n",
       "      <td>2019-09-03 00:00:00</td>\n",
       "      <td>2019-10-03</td>\n",
       "      <td>2019-09-17</td>\n",
       "      <td>1550.00</td>\n",
       "      <td>0.0</td>\n",
       "      <td>0.0</td>\n",
       "    </tr>\n",
       "    <tr>\n",
       "      <th>4</th>\n",
       "      <td>F29418</td>\n",
       "      <td>6813</td>\n",
       "      <td>C</td>\n",
       "      <td>2.0</td>\n",
       "      <td>2019-09-03 14:23:45</td>\n",
       "      <td>2019-09-03</td>\n",
       "      <td>2019-09-03 00:00:00</td>\n",
       "      <td>2019-09-03</td>\n",
       "      <td>2019-09-10</td>\n",
       "      <td>2435.44</td>\n",
       "      <td>0.0</td>\n",
       "      <td>0.0</td>\n",
       "    </tr>\n",
       "  </tbody>\n",
       "</table>\n",
       "</div>"
      ],
      "text/plain": [
       "  CVE_DOC    CVE_CLPV STATUS  CVE_VEND           FECHAELAB  FECHA_DOC  \\\n",
       "0  F29414        2465      C       1.0 2019-09-03 08:58:42 2019-09-03   \n",
       "1  F29415        3926      C       1.0 2019-09-03 09:55:14 2019-09-03   \n",
       "2  F29416        3926      C       1.0 2019-09-03 13:25:33 2019-09-03   \n",
       "3  F29417        3926      C       1.0 2019-09-03 13:33:23 2019-09-03   \n",
       "4  F29418        6813      C       2.0 2019-09-03 14:23:45 2019-09-03   \n",
       "\n",
       "             FECHA_ENT  FECHA_VEN FECHA_CANCELA  CAN_TOT  DES_TOT  DES_FIN  \n",
       "0  2019-09-03 00:00:00 2019-09-18    2019-09-04  3980.00      0.0      0.0  \n",
       "1  2019-09-03 00:00:00 2019-10-03    2019-09-03  1550.00      0.0      0.0  \n",
       "2  2019-09-03 00:00:00 2019-10-03    2019-09-03  1550.00      0.0      0.0  \n",
       "3  2019-09-03 00:00:00 2019-10-03    2019-09-17  1550.00      0.0      0.0  \n",
       "4  2019-09-03 00:00:00 2019-09-03    2019-09-10  2435.44      0.0      0.0  "
      ]
     },
     "execution_count": 2,
     "metadata": {},
     "output_type": "execute_result"
    }
   ],
   "source": [
    "facturacion = pd.read_excel('Datos de Facturación.xlsx')\n",
    "facturacion.head(5)"
   ]
  },
  {
   "cell_type": "code",
   "execution_count": 3,
   "metadata": {},
   "outputs": [
    {
     "data": {
      "text/plain": [
       "CVE_DOC              5\n",
       "CVE_CLPV             0\n",
       "STATUS               9\n",
       "CVE_VEND            48\n",
       "FECHAELAB            2\n",
       "FECHA_DOC            1\n",
       "FECHA_ENT            2\n",
       "FECHA_VEN            0\n",
       "FECHA_CANCELA    10537\n",
       "CAN_TOT              6\n",
       "DES_TOT              1\n",
       "DES_FIN              3\n",
       "dtype: int64"
      ]
     },
     "execution_count": 3,
     "metadata": {},
     "output_type": "execute_result"
    }
   ],
   "source": [
    "valores_nulos_facturacion=facturacion.isnull().sum()\n",
    "valores_nulos_facturacion"
   ]
  },
  {
   "cell_type": "code",
   "execution_count": 4,
   "metadata": {},
   "outputs": [],
   "source": [
    "facturacion1 = facturacion.copy()"
   ]
  },
  {
   "cell_type": "code",
   "execution_count": 12,
   "metadata": {},
   "outputs": [],
   "source": [
    "#Sustitucion por promedio para valores numericos\n",
    "facturacion1[\"CVE_VEND\"]=facturacion1[\"CVE_VEND\"].fillna(round(facturacion[\"CVE_VEND\"].mean(),1))\n",
    "facturacion1[\"CAN_TOT\"]=facturacion1[\"CAN_TOT\"].fillna(round(facturacion[\"CAN_TOT\"].mean(),1))\n",
    "facturacion1[\"DES_TOT\"]=facturacion1[\"DES_TOT\"].fillna(round(facturacion[\"DES_TOT\"].mean(),1))\n",
    "facturacion1[\"DES_FIN\"]=facturacion1[\"DES_FIN\"].fillna(round(facturacion[\"DES_FIN\"].mean(),1))\n"
   ]
  },
  {
   "cell_type": "code",
   "execution_count": 19,
   "metadata": {},
   "outputs": [
    {
     "name": "stderr",
     "output_type": "stream",
     "text": [
      "C:\\Users\\Osvaldo\\AppData\\Local\\Temp\\ipykernel_32892\\1245036130.py:2: FutureWarning: Series.fillna with 'method' is deprecated and will raise in a future version. Use obj.ffill() or obj.bfill() instead.\n",
      "  facturacion1[\"FECHAELAB\"] =facturacion1[\"FECHAELAB\"].fillna(method=\"ffill\")\n",
      "C:\\Users\\Osvaldo\\AppData\\Local\\Temp\\ipykernel_32892\\1245036130.py:3: FutureWarning: Series.fillna with 'method' is deprecated and will raise in a future version. Use obj.ffill() or obj.bfill() instead.\n",
      "  facturacion1[\"FECHA_DOC\"] =facturacion1[\"FECHA_DOC\"].fillna(method=\"ffill\")\n",
      "C:\\Users\\Osvaldo\\AppData\\Local\\Temp\\ipykernel_32892\\1245036130.py:4: FutureWarning: Series.fillna with 'method' is deprecated and will raise in a future version. Use obj.ffill() or obj.bfill() instead.\n",
      "  facturacion1[\"FECHA_ENT\"] =facturacion1[\"FECHA_ENT\"].fillna(method=\"ffill\")\n",
      "C:\\Users\\Osvaldo\\AppData\\Local\\Temp\\ipykernel_32892\\1245036130.py:5: FutureWarning: Series.fillna with 'method' is deprecated and will raise in a future version. Use obj.ffill() or obj.bfill() instead.\n",
      "  facturacion1[\"FECHA_CANCELA\"] =facturacion1[\"FECHA_CANCELA\"].fillna(method=\"ffill\")\n"
     ]
    }
   ],
   "source": [
    "#Sustitucion para valores de fecha con el metodo de sustitucion por valores no nulos hacia adelante\n",
    "facturacion1[\"FECHAELAB\"] =facturacion1[\"FECHAELAB\"].fillna(method=\"ffill\")\n",
    "facturacion1[\"FECHA_DOC\"] =facturacion1[\"FECHA_DOC\"].fillna(method=\"ffill\")\n",
    "facturacion1[\"FECHA_ENT\"] =facturacion1[\"FECHA_ENT\"].fillna(method=\"ffill\")\n",
    "facturacion1[\"FECHA_CANCELA\"] =facturacion1[\"FECHA_CANCELA\"].fillna(method=\"ffill\")"
   ]
  },
  {
   "cell_type": "code",
   "execution_count": 20,
   "metadata": {},
   "outputs": [
    {
     "data": {
      "text/plain": [
       "CVE_DOC          0\n",
       "CVE_CLPV         0\n",
       "STATUS           9\n",
       "CVE_VEND         0\n",
       "FECHAELAB        0\n",
       "FECHA_DOC        0\n",
       "FECHA_ENT        0\n",
       "FECHA_VEN        0\n",
       "FECHA_CANCELA    0\n",
       "CAN_TOT          0\n",
       "DES_TOT          0\n",
       "DES_FIN          0\n",
       "dtype: int64"
      ]
     },
     "execution_count": 20,
     "metadata": {},
     "output_type": "execute_result"
    }
   ],
   "source": [
    "valores_nulos_facturacion1=facturacion1.isnull().sum()\n",
    "valores_nulos_facturacion1"
   ]
  }
 ],
 "metadata": {
  "kernelspec": {
   "display_name": "Python 3",
   "language": "python",
   "name": "python3"
  },
  "language_info": {
   "codemirror_mode": {
    "name": "ipython",
    "version": 3
   },
   "file_extension": ".py",
   "mimetype": "text/x-python",
   "name": "python",
   "nbconvert_exporter": "python",
   "pygments_lexer": "ipython3",
   "version": "3.12.4"
  }
 },
 "nbformat": 4,
 "nbformat_minor": 2
}
