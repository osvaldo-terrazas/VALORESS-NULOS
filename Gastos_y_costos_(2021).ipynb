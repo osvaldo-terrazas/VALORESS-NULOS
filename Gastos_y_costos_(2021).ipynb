{
  "cells": [
    {
      "cell_type": "code",
      "execution_count": 1,
      "metadata": {
        "id": "mX2tK5dLocdq"
      },
      "outputs": [],
      "source": [
        "import pandas as pd\n",
        "import numpy as np"
      ]
    },
    {
      "cell_type": "code",
      "execution_count": 2,
      "metadata": {
        "colab": {
          "base_uri": "https://localhost:8080/",
          "height": 1000
        },
        "id": "UPzL9jdModGJ",
        "outputId": "dede51c1-0858-4ea9-d347-aba4b9cb6272"
      },
      "outputs": [
        {
          "data": {
            "text/html": [
              "<div>\n",
              "<style scoped>\n",
              "    .dataframe tbody tr th:only-of-type {\n",
              "        vertical-align: middle;\n",
              "    }\n",
              "\n",
              "    .dataframe tbody tr th {\n",
              "        vertical-align: top;\n",
              "    }\n",
              "\n",
              "    .dataframe thead th {\n",
              "        text-align: right;\n",
              "    }\n",
              "</style>\n",
              "<table border=\"1\" class=\"dataframe\">\n",
              "  <thead>\n",
              "    <tr style=\"text-align: right;\">\n",
              "      <th></th>\n",
              "      <th>FECHA</th>\n",
              "      <th>FOLIO</th>\n",
              "      <th>UUID</th>\n",
              "      <th>RFC</th>\n",
              "      <th>PROVEEDOR</th>\n",
              "      <th>TIPO GASTO</th>\n",
              "      <th>DESCRIPCION</th>\n",
              "      <th>MP</th>\n",
              "      <th>TC</th>\n",
              "      <th>IMPORTE</th>\n",
              "      <th>IVA</th>\n",
              "      <th>RET ISR</th>\n",
              "      <th>RET IVA</th>\n",
              "      <th>TOTAL MX</th>\n",
              "      <th>TOTAL SAT</th>\n",
              "      <th>TIPO</th>\n",
              "      <th>STATUS</th>\n",
              "      <th>POLIZA</th>\n",
              "    </tr>\n",
              "  </thead>\n",
              "  <tbody>\n",
              "    <tr>\n",
              "      <th>0</th>\n",
              "      <td>2021-01-01</td>\n",
              "      <td>0001010100750847116902</td>\n",
              "      <td>71B4C8B9-8DAA-47CC-AD47-9DD90AA5AF6B</td>\n",
              "      <td>BNM840515VB1</td>\n",
              "      <td>BANCO NACIONAL DE MEXICO, S.A.</td>\n",
              "      <td>COMISION BANCARIA</td>\n",
              "      <td>COMISION COBRADA</td>\n",
              "      <td>PUE</td>\n",
              "      <td>1.0</td>\n",
              "      <td>490.00</td>\n",
              "      <td>78.40</td>\n",
              "      <td>0.0</td>\n",
              "      <td>0.0</td>\n",
              "      <td>568.40</td>\n",
              "      <td>568.40</td>\n",
              "      <td>I</td>\n",
              "      <td>Vigente</td>\n",
              "      <td>0</td>\n",
              "    </tr>\n",
              "    <tr>\n",
              "      <th>1</th>\n",
              "      <td>2021-01-01</td>\n",
              "      <td>0001010100752163714102</td>\n",
              "      <td>B8AEDE83-CC76-404C-A611-6B5A87BA561F</td>\n",
              "      <td>BNM840515VB1</td>\n",
              "      <td>BANCO NACIONAL DE MEXICO, S.A.</td>\n",
              "      <td>COMISION BANCARIA</td>\n",
              "      <td>COMISION COBRADA</td>\n",
              "      <td>PUE</td>\n",
              "      <td>1.0</td>\n",
              "      <td>345.00</td>\n",
              "      <td>55.20</td>\n",
              "      <td>0.0</td>\n",
              "      <td>0.0</td>\n",
              "      <td>400.20</td>\n",
              "      <td>400.20</td>\n",
              "      <td>I</td>\n",
              "      <td>Vigente</td>\n",
              "      <td>0</td>\n",
              "    </tr>\n",
              "    <tr>\n",
              "      <th>2</th>\n",
              "      <td>2021-01-01</td>\n",
              "      <td>19788</td>\n",
              "      <td>19B9B2C2-DF58-E24D-B43A-3FC4D5A929E7</td>\n",
              "      <td>ESI9612311E7</td>\n",
              "      <td>ELECTRONICOS Y SIMILARES, S.A. DE C.V.</td>\n",
              "      <td>COMPRAS</td>\n",
              "      <td>MOTO E7 PLUS AZUL 64GB 4RAM</td>\n",
              "      <td>PUE</td>\n",
              "      <td>1.0</td>\n",
              "      <td>3447.41</td>\n",
              "      <td>551.59</td>\n",
              "      <td>0.0</td>\n",
              "      <td>0.0</td>\n",
              "      <td>3999.00</td>\n",
              "      <td>3999.00</td>\n",
              "      <td>I</td>\n",
              "      <td>Vigente</td>\n",
              "      <td>0</td>\n",
              "    </tr>\n",
              "    <tr>\n",
              "      <th>3</th>\n",
              "      <td>2021-01-01</td>\n",
              "      <td>211781</td>\n",
              "      <td>EAB26414-DD9A-4E8F-9F5C-05FE24D98E48</td>\n",
              "      <td>BLE1512082R9</td>\n",
              "      <td>BEPENSA LEASING S.A. DE C.V.</td>\n",
              "      <td>ARRENDAMIENTO FINANCIERO</td>\n",
              "      <td>AA RENTA EXIGIBLE CL0000006876 6/36 de 03/12/2...</td>\n",
              "      <td>PPD</td>\n",
              "      <td>1.0</td>\n",
              "      <td>5551.38</td>\n",
              "      <td>888.22</td>\n",
              "      <td>0.0</td>\n",
              "      <td>0.0</td>\n",
              "      <td>6439.60</td>\n",
              "      <td>6439.60</td>\n",
              "      <td>I</td>\n",
              "      <td>Vigente</td>\n",
              "      <td>0</td>\n",
              "    </tr>\n",
              "    <tr>\n",
              "      <th>4</th>\n",
              "      <td>2021-01-01</td>\n",
              "      <td>211782</td>\n",
              "      <td>C16F79B5-FB35-4BFC-AF84-708B24F500BB</td>\n",
              "      <td>BLE1512082R9</td>\n",
              "      <td>BEPENSA LEASING S.A. DE C.V.</td>\n",
              "      <td>ARRENDAMIENTO FINANCIERO</td>\n",
              "      <td>AA RENTA EXIGIBLE CL0000006877 6/36 de 03/12/2...</td>\n",
              "      <td>PPD</td>\n",
              "      <td>1.0</td>\n",
              "      <td>5551.98</td>\n",
              "      <td>888.32</td>\n",
              "      <td>0.0</td>\n",
              "      <td>0.0</td>\n",
              "      <td>6440.30</td>\n",
              "      <td>6440.30</td>\n",
              "      <td>I</td>\n",
              "      <td>Vigente</td>\n",
              "      <td>0</td>\n",
              "    </tr>\n",
              "    <tr>\n",
              "      <th>...</th>\n",
              "      <td>...</td>\n",
              "      <td>...</td>\n",
              "      <td>...</td>\n",
              "      <td>...</td>\n",
              "      <td>...</td>\n",
              "      <td>...</td>\n",
              "      <td>...</td>\n",
              "      <td>...</td>\n",
              "      <td>...</td>\n",
              "      <td>...</td>\n",
              "      <td>...</td>\n",
              "      <td>...</td>\n",
              "      <td>...</td>\n",
              "      <td>...</td>\n",
              "      <td>...</td>\n",
              "      <td>...</td>\n",
              "      <td>...</td>\n",
              "      <td>...</td>\n",
              "    </tr>\n",
              "    <tr>\n",
              "      <th>3030</th>\n",
              "      <td>2021-12-01</td>\n",
              "      <td>127043</td>\n",
              "      <td>83F82167-0D14-144E-9D76-045C95F25DDD</td>\n",
              "      <td>PGM881128QIA</td>\n",
              "      <td>PROMOCIONES GRAFICAS MEXICANAS, S.A. DE C.V.</td>\n",
              "      <td>PUBLICIDAD</td>\n",
              "      <td>Pago</td>\n",
              "      <td>NaN</td>\n",
              "      <td>1.0</td>\n",
              "      <td>0.00</td>\n",
              "      <td>0.00</td>\n",
              "      <td>0.0</td>\n",
              "      <td>0.0</td>\n",
              "      <td>0.00</td>\n",
              "      <td>0.00</td>\n",
              "      <td>P</td>\n",
              "      <td>Vigente</td>\n",
              "      <td>NaN</td>\n",
              "    </tr>\n",
              "    <tr>\n",
              "      <th>3031</th>\n",
              "      <td>2021-12-01</td>\n",
              "      <td>11740</td>\n",
              "      <td>B1C60AE0-02BC-4A33-9513-A280F72B5D06</td>\n",
              "      <td>SME0510105C7</td>\n",
              "      <td>SPECTRIS MEXICO S DE RL DE CV</td>\n",
              "      <td>COMPRAS</td>\n",
              "      <td>INSULATED T/C WIRE</td>\n",
              "      <td>PUE</td>\n",
              "      <td>1.0</td>\n",
              "      <td>0.00</td>\n",
              "      <td>0.00</td>\n",
              "      <td>0.0</td>\n",
              "      <td>0.0</td>\n",
              "      <td>0.00</td>\n",
              "      <td>0.00</td>\n",
              "      <td>I</td>\n",
              "      <td>Vigente</td>\n",
              "      <td>NaN</td>\n",
              "    </tr>\n",
              "    <tr>\n",
              "      <th>3032</th>\n",
              "      <td>2021-12-01</td>\n",
              "      <td>1092957089</td>\n",
              "      <td>255F4A25-5753-4208-8F6B-0B59E5AE4741</td>\n",
              "      <td>BMN930209927</td>\n",
              "      <td>BANCO MERCANTIL DEL NORTE SA INSTITUCION DE BA...</td>\n",
              "      <td>COMISION BANCARIA</td>\n",
              "      <td>SERVICIOS BANCARIOS</td>\n",
              "      <td>PUE</td>\n",
              "      <td>1.0</td>\n",
              "      <td>22826.46</td>\n",
              "      <td>705.58</td>\n",
              "      <td>0.0</td>\n",
              "      <td>0.0</td>\n",
              "      <td>23532.04</td>\n",
              "      <td>23532.04</td>\n",
              "      <td>I</td>\n",
              "      <td>Vigente</td>\n",
              "      <td>NaN</td>\n",
              "    </tr>\n",
              "    <tr>\n",
              "      <th>3033</th>\n",
              "      <td>2021-12-01</td>\n",
              "      <td>747826</td>\n",
              "      <td>D8226E4F-9241-44C3-86A4-CDE9BC932528</td>\n",
              "      <td>BIN940223KE0</td>\n",
              "      <td>BANCO INVEX, S.A., INSTITUCION DE BANCA MULTIP...</td>\n",
              "      <td>COMISION BANCARIA</td>\n",
              "      <td>COMISIONES E INTERESES</td>\n",
              "      <td>PUE</td>\n",
              "      <td>1.0</td>\n",
              "      <td>0.00</td>\n",
              "      <td>0.00</td>\n",
              "      <td>0.0</td>\n",
              "      <td>0.0</td>\n",
              "      <td>0.00</td>\n",
              "      <td>0.00</td>\n",
              "      <td>I</td>\n",
              "      <td>Vigente</td>\n",
              "      <td>NaN</td>\n",
              "    </tr>\n",
              "    <tr>\n",
              "      <th>3034</th>\n",
              "      <td>2021-12-01</td>\n",
              "      <td>1227374</td>\n",
              "      <td>41770F35-39EF-41A4-8DF4-EE9586CF4549</td>\n",
              "      <td>EFE8908015L3</td>\n",
              "      <td>EFECTIVALE S. de R.L. de C.V.</td>\n",
              "      <td>GASOLINA</td>\n",
              "      <td>CONSUMOS DE COMBUSTIBLE DE MONEDEROS ELECTRONICOS</td>\n",
              "      <td>PUE</td>\n",
              "      <td>1.0</td>\n",
              "      <td>15656.15</td>\n",
              "      <td>0.00</td>\n",
              "      <td>0.0</td>\n",
              "      <td>0.0</td>\n",
              "      <td>15656.15</td>\n",
              "      <td>15656.15</td>\n",
              "      <td>I</td>\n",
              "      <td>Vigente</td>\n",
              "      <td>NaN</td>\n",
              "    </tr>\n",
              "  </tbody>\n",
              "</table>\n",
              "<p>3035 rows × 18 columns</p>\n",
              "</div>"
            ],
            "text/plain": [
              "          FECHA                   FOLIO                                  UUID  \\\n",
              "0    2021-01-01  0001010100750847116902  71B4C8B9-8DAA-47CC-AD47-9DD90AA5AF6B   \n",
              "1    2021-01-01  0001010100752163714102  B8AEDE83-CC76-404C-A611-6B5A87BA561F   \n",
              "2    2021-01-01                   19788  19B9B2C2-DF58-E24D-B43A-3FC4D5A929E7   \n",
              "3    2021-01-01                  211781  EAB26414-DD9A-4E8F-9F5C-05FE24D98E48   \n",
              "4    2021-01-01                  211782  C16F79B5-FB35-4BFC-AF84-708B24F500BB   \n",
              "...         ...                     ...                                   ...   \n",
              "3030 2021-12-01                  127043  83F82167-0D14-144E-9D76-045C95F25DDD   \n",
              "3031 2021-12-01                   11740  B1C60AE0-02BC-4A33-9513-A280F72B5D06   \n",
              "3032 2021-12-01              1092957089  255F4A25-5753-4208-8F6B-0B59E5AE4741   \n",
              "3033 2021-12-01                  747826  D8226E4F-9241-44C3-86A4-CDE9BC932528   \n",
              "3034 2021-12-01                 1227374  41770F35-39EF-41A4-8DF4-EE9586CF4549   \n",
              "\n",
              "               RFC                                          PROVEEDOR  \\\n",
              "0     BNM840515VB1                     BANCO NACIONAL DE MEXICO, S.A.   \n",
              "1     BNM840515VB1                     BANCO NACIONAL DE MEXICO, S.A.   \n",
              "2     ESI9612311E7             ELECTRONICOS Y SIMILARES, S.A. DE C.V.   \n",
              "3     BLE1512082R9                       BEPENSA LEASING S.A. DE C.V.   \n",
              "4     BLE1512082R9                       BEPENSA LEASING S.A. DE C.V.   \n",
              "...            ...                                                ...   \n",
              "3030  PGM881128QIA       PROMOCIONES GRAFICAS MEXICANAS, S.A. DE C.V.   \n",
              "3031  SME0510105C7                      SPECTRIS MEXICO S DE RL DE CV   \n",
              "3032  BMN930209927  BANCO MERCANTIL DEL NORTE SA INSTITUCION DE BA...   \n",
              "3033  BIN940223KE0  BANCO INVEX, S.A., INSTITUCION DE BANCA MULTIP...   \n",
              "3034  EFE8908015L3                      EFECTIVALE S. de R.L. de C.V.   \n",
              "\n",
              "                    TIPO GASTO  \\\n",
              "0            COMISION BANCARIA   \n",
              "1            COMISION BANCARIA   \n",
              "2                      COMPRAS   \n",
              "3     ARRENDAMIENTO FINANCIERO   \n",
              "4     ARRENDAMIENTO FINANCIERO   \n",
              "...                        ...   \n",
              "3030                PUBLICIDAD   \n",
              "3031                  COMPRAS    \n",
              "3032         COMISION BANCARIA   \n",
              "3033         COMISION BANCARIA   \n",
              "3034                  GASOLINA   \n",
              "\n",
              "                                            DESCRIPCION   MP   TC   IMPORTE  \\\n",
              "0                                      COMISION COBRADA  PUE  1.0    490.00   \n",
              "1                                      COMISION COBRADA  PUE  1.0    345.00   \n",
              "2                           MOTO E7 PLUS AZUL 64GB 4RAM  PUE  1.0   3447.41   \n",
              "3     AA RENTA EXIGIBLE CL0000006876 6/36 de 03/12/2...  PPD  1.0   5551.38   \n",
              "4     AA RENTA EXIGIBLE CL0000006877 6/36 de 03/12/2...  PPD  1.0   5551.98   \n",
              "...                                                 ...  ...  ...       ...   \n",
              "3030                                               Pago  NaN  1.0      0.00   \n",
              "3031                                 INSULATED T/C WIRE  PUE  1.0      0.00   \n",
              "3032                                SERVICIOS BANCARIOS  PUE  1.0  22826.46   \n",
              "3033                             COMISIONES E INTERESES  PUE  1.0      0.00   \n",
              "3034  CONSUMOS DE COMBUSTIBLE DE MONEDEROS ELECTRONICOS  PUE  1.0  15656.15   \n",
              "\n",
              "         IVA  RET ISR  RET IVA  TOTAL MX  TOTAL SAT TIPO   STATUS POLIZA  \n",
              "0      78.40      0.0      0.0    568.40     568.40    I  Vigente      0  \n",
              "1      55.20      0.0      0.0    400.20     400.20    I  Vigente      0  \n",
              "2     551.59      0.0      0.0   3999.00    3999.00    I  Vigente      0  \n",
              "3     888.22      0.0      0.0   6439.60    6439.60    I  Vigente      0  \n",
              "4     888.32      0.0      0.0   6440.30    6440.30    I  Vigente      0  \n",
              "...      ...      ...      ...       ...        ...  ...      ...    ...  \n",
              "3030    0.00      0.0      0.0      0.00       0.00    P  Vigente    NaN  \n",
              "3031    0.00      0.0      0.0      0.00       0.00    I  Vigente    NaN  \n",
              "3032  705.58      0.0      0.0  23532.04   23532.04    I  Vigente    NaN  \n",
              "3033    0.00      0.0      0.0      0.00       0.00    I  Vigente    NaN  \n",
              "3034    0.00      0.0      0.0  15656.15   15656.15    I  Vigente    NaN  \n",
              "\n",
              "[3035 rows x 18 columns]"
            ]
          },
          "execution_count": 2,
          "metadata": {},
          "output_type": "execute_result"
        }
      ],
      "source": [
        "#Carga desde un archivo .csv sin indice\n",
        "gastos_costos_21=pd.read_excel(\"Gastos y costos 20-23.xlsx\",sheet_name=\"2021\",skiprows=3)\n",
        "gastos_costos_21"
      ]
    },
    {
      "cell_type": "code",
      "execution_count": 3,
      "metadata": {
        "colab": {
          "base_uri": "https://localhost:8080/",
          "height": 648
        },
        "id": "X_EW27qBojQA",
        "outputId": "66da00f6-7f0b-4ddc-ce74-e92c84df3675"
      },
      "outputs": [
        {
          "data": {
            "text/plain": [
              "FECHA             0\n",
              "FOLIO           147\n",
              "UUID              0\n",
              "RFC               0\n",
              "PROVEEDOR         0\n",
              "TIPO GASTO        0\n",
              "DESCRIPCION       0\n",
              "MP              654\n",
              "TC                0\n",
              "IMPORTE           0\n",
              "IVA               0\n",
              "RET ISR           0\n",
              "RET IVA           0\n",
              "TOTAL MX          0\n",
              "TOTAL SAT         0\n",
              "TIPO              0\n",
              "STATUS            0\n",
              "POLIZA         2372\n",
              "dtype: int64"
            ]
          },
          "execution_count": 3,
          "metadata": {},
          "output_type": "execute_result"
        }
      ],
      "source": [
        "#Identificar valores nulos por columna\n",
        "valores_nulos_gastos_costos_21=gastos_costos_21.isnull().sum()\n",
        "valores_nulos_gastos_costos_21"
      ]
    },
    {
      "cell_type": "code",
      "execution_count": 5,
      "metadata": {
        "id": "Hz8Yxmsgomuw"
      },
      "outputs": [],
      "source": [
        "#Realizamos una copia del dataframe\n",
        "copia_gastos_costos_21 = gastos_costos_21.copy()"
      ]
    },
    {
      "cell_type": "code",
      "execution_count": 6,
      "metadata": {
        "id": "v6FcdbI1qWJw"
      },
      "outputs": [],
      "source": [
        "#Cuarto método de sustitución de valores nulos\n",
        "#Sustituir valores nulos por un string en  concreto\n",
        "copia_gastos_costos_21[\"FOLIO\"] = copia_gastos_costos_21[\"FOLIO\"].fillna(\"F0000\")"
      ]
    },
    {
      "cell_type": "code",
      "execution_count": 7,
      "metadata": {
        "colab": {
          "base_uri": "https://localhost:8080/",
          "height": 648
        },
        "id": "mA7j_tQ-rPLi",
        "outputId": "775bea32-9c97-46ff-fa44-885edbd7c8c9"
      },
      "outputs": [
        {
          "data": {
            "text/plain": [
              "FECHA             0\n",
              "FOLIO             0\n",
              "UUID              0\n",
              "RFC               0\n",
              "PROVEEDOR         0\n",
              "TIPO GASTO        0\n",
              "DESCRIPCION       0\n",
              "MP              654\n",
              "TC                0\n",
              "IMPORTE           0\n",
              "IVA               0\n",
              "RET ISR           0\n",
              "RET IVA           0\n",
              "TOTAL MX          0\n",
              "TOTAL SAT         0\n",
              "TIPO              0\n",
              "STATUS            0\n",
              "POLIZA         2372\n",
              "dtype: int64"
            ]
          },
          "execution_count": 7,
          "metadata": {},
          "output_type": "execute_result"
        }
      ],
      "source": [
        "#Corroboramos valores nulos\n",
        "valores_nulos=copia_gastos_costos_21.isnull().sum()\n",
        "valores_nulos"
      ]
    },
    {
      "cell_type": "code",
      "execution_count": 8,
      "metadata": {
        "id": "NYDws_E-sVbf"
      },
      "outputs": [],
      "source": [
        "#Cuarto método de sustitución de valores nulos\n",
        "#Sustituir valores nulos por un string en  concreto\n",
        "copia_gastos_costos_21[\"MP\"] = copia_gastos_costos_21[\"MP\"].fillna(\"N/A\")"
      ]
    },
    {
      "cell_type": "code",
      "execution_count": 9,
      "metadata": {
        "colab": {
          "base_uri": "https://localhost:8080/",
          "height": 648
        },
        "id": "sd0Ha7tksgFh",
        "outputId": "aae22934-f370-41aa-b7cc-043647ee4fff"
      },
      "outputs": [
        {
          "data": {
            "text/plain": [
              "FECHA             0\n",
              "FOLIO             0\n",
              "UUID              0\n",
              "RFC               0\n",
              "PROVEEDOR         0\n",
              "TIPO GASTO        0\n",
              "DESCRIPCION       0\n",
              "MP                0\n",
              "TC                0\n",
              "IMPORTE           0\n",
              "IVA               0\n",
              "RET ISR           0\n",
              "RET IVA           0\n",
              "TOTAL MX          0\n",
              "TOTAL SAT         0\n",
              "TIPO              0\n",
              "STATUS            0\n",
              "POLIZA         2372\n",
              "dtype: int64"
            ]
          },
          "execution_count": 9,
          "metadata": {},
          "output_type": "execute_result"
        }
      ],
      "source": [
        "#Corroboramos valores nulos\n",
        "valores_nulos=copia_gastos_costos_21.isnull().sum()\n",
        "valores_nulos"
      ]
    },
    {
      "cell_type": "code",
      "execution_count": 10,
      "metadata": {
        "id": "tYFO-ZQVsi4e"
      },
      "outputs": [],
      "source": [
        "#Cuarto método de sustitución de valores nulos\n",
        "#Sustituir valores nulos por un string en  concreto\n",
        "copia_gastos_costos_21[\"POLIZA\"] = copia_gastos_costos_21[\"POLIZA\"].fillna(\"SINPOLIZA\")"
      ]
    },
    {
      "cell_type": "code",
      "execution_count": 11,
      "metadata": {
        "colab": {
          "base_uri": "https://localhost:8080/",
          "height": 648
        },
        "id": "eNRFX8DvvQSe",
        "outputId": "a8640b93-7507-4ff3-a4cb-c2fd0e026035"
      },
      "outputs": [
        {
          "data": {
            "text/plain": [
              "FECHA          0\n",
              "FOLIO          0\n",
              "UUID           0\n",
              "RFC            0\n",
              "PROVEEDOR      0\n",
              "TIPO GASTO     0\n",
              "DESCRIPCION    0\n",
              "MP             0\n",
              "TC             0\n",
              "IMPORTE        0\n",
              "IVA            0\n",
              "RET ISR        0\n",
              "RET IVA        0\n",
              "TOTAL MX       0\n",
              "TOTAL SAT      0\n",
              "TIPO           0\n",
              "STATUS         0\n",
              "POLIZA         0\n",
              "dtype: int64"
            ]
          },
          "execution_count": 11,
          "metadata": {},
          "output_type": "execute_result"
        }
      ],
      "source": [
        "#Corroboramos valores nulos\n",
        "valores_nulos=copia_gastos_costos_21.isnull().sum()\n",
        "valores_nulos"
      ]
    },
    {
      "cell_type": "code",
      "execution_count": 12,
      "metadata": {},
      "outputs": [],
      "source": [
        "#Convertir a archivos csv\n",
        "copia_gastos_costos_21.to_csv(\"GASTOS Y COSTOS 2021 CORREGIDO.csv\")"
      ]
    }
  ],
  "metadata": {
    "colab": {
      "provenance": []
    },
    "kernelspec": {
      "display_name": "Python 3",
      "name": "python3"
    },
    "language_info": {
      "codemirror_mode": {
        "name": "ipython",
        "version": 3
      },
      "file_extension": ".py",
      "mimetype": "text/x-python",
      "name": "python",
      "nbconvert_exporter": "python",
      "pygments_lexer": "ipython3",
      "version": "3.12.4"
    }
  },
  "nbformat": 4,
  "nbformat_minor": 0
}
